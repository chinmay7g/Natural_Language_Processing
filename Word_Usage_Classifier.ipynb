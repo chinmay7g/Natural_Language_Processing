{
 "cells": [
  {
   "cell_type": "markdown",
   "metadata": {},
   "source": [
    "# Word Usage Classifier"
   ]
  },
  {
   "cell_type": "code",
   "execution_count": 1,
   "metadata": {},
   "outputs": [],
   "source": [
    "#loading the package required\n",
    "import spacy\n",
    "\n",
    "#loading the English module\n",
    "nlp = spacy.load('en')"
   ]
  },
  {
   "cell_type": "code",
   "execution_count": 2,
   "metadata": {},
   "outputs": [],
   "source": [
    "#retrieving data\n",
    "import wikipedia\n",
    "\n",
    "#loading the pages by custom function\n",
    "\n",
    "def pages_to_sentences(*pages):\n",
    "    sentences = []\n",
    "    for page in pages:\n",
    "        p = wikipedia.page(page)\n",
    "        doc = nlp(p.content)\n",
    "        sentences += [sent.text for sent in doc.sents]\n",
    "    return sentences\n",
    "\n",
    "animal_sents = pages_to_sentences('Reticulated python', 'Ball python')\n",
    "language_sents = pages_to_sentences('Python(programming language)')\n"
   ]
  },
  {
   "cell_type": "code",
   "execution_count": 3,
   "metadata": {},
   "outputs": [],
   "source": [
    "#creating the data\n",
    "documents = animal_sents + language_sents\n",
    "\n",
    "#creating the labels\n",
    "\n",
    "labels = ['animal']*len(animal_sents) + ['language']*len(language_sents)"
   ]
  },
  {
   "cell_type": "code",
   "execution_count": 4,
   "metadata": {},
   "outputs": [],
   "source": [
    "#creating the stop words\n",
    "from spacy.lang.en import STOP_WORDS\n",
    "\n",
    "#creating lemma of stop words\n",
    "\n",
    "stop_words_str = \"\".join(STOP_WORDS)\n",
    "stop_words_lemma = set(word.lemma_ for word in nlp(stop_words_str)) "
   ]
  },
  {
   "cell_type": "code",
   "execution_count": 5,
   "metadata": {},
   "outputs": [],
   "source": [
    "#creating the tokenizer\n",
    "\n",
    "def lemmatizer(text):\n",
    "    return [word.lemma_ for word in nlp(text)]"
   ]
  },
  {
   "cell_type": "code",
   "execution_count": 14,
   "metadata": {},
   "outputs": [
    {
     "data": {
      "text/plain": [
       "Pipeline(memory=None,\n",
       "         steps=[('vectorizer',\n",
       "                 TfidfVectorizer(analyzer='word', binary=False,\n",
       "                                 decode_error='strict',\n",
       "                                 dtype=<class 'numpy.float64'>,\n",
       "                                 encoding='utf-8', input='content',\n",
       "                                 lowercase=True, max_df=1.0, max_features=None,\n",
       "                                 min_df=1, ngram_range=(1, 2), norm='l2',\n",
       "                                 preprocessor=None, smooth_idf=True,\n",
       "                                 stop_words={\"amongthereincannottherebynotsomeonemineherselfwhose...namelyregardingninewellthussometimeyourwhymany’llfiftysamefurtheryou‘s’dwhichexceptwhereasunderdonewhatn't\"},\n",
       "                                 strip_accents=None, sublinear_tf=False,\n",
       "                                 token_pattern='(?u)\\\\b\\\\w\\\\w+\\\\b',\n",
       "                                 tokenizer=<function lemmatizer at 0x00000218A04E30D8>,\n",
       "                                 use_idf=True, vocabulary=None)),\n",
       "                ('classifier',\n",
       "                 MultinomialNB(alpha=1.0, class_prior=None, fit_prior=True))],\n",
       "         verbose=False)"
      ]
     },
     "execution_count": 14,
     "metadata": {},
     "output_type": "execute_result"
    }
   ],
   "source": [
    "#creating the workflow\n",
    "\n",
    "from sklearn.feature_extraction.text import TfidfVectorizer\n",
    "from sklearn.naive_bayes import MultinomialNB\n",
    "from sklearn.pipeline import Pipeline\n",
    "\n",
    "#instantiating\n",
    "tfidf1 = TfidfVectorizer(stop_words = stop_words_lemma, tokenizer = lemmatizer , ngram_range = (2,2) )\n",
    "tfidf2 = TfidfVectorizer(stop_words = stop_words_lemma, tokenizer = lemmatizer , ngram_range = (1,2) )\n",
    "\n",
    "#creating pipeline\n",
    "pipe1 = Pipeline([('vectorizer' , tfidf1), ('classifier', MultinomialNB())])\n",
    "pipe2 = Pipeline([('vectorizer', tfidf2), ('classifier', MultinomialNB())])\n",
    "#training\n",
    "\n",
    "pipe1.fit(documents, labels)\n",
    "pipe2.fit(documents, labels)"
   ]
  },
  {
   "cell_type": "code",
   "execution_count": 15,
   "metadata": {},
   "outputs": [
    {
     "name": "stdout",
     "output_type": "stream",
     "text": [
      "Training score for bigram: 0.9159663865546218\n",
      "Training score for unigram: 0.9135654261704682\n"
     ]
    }
   ],
   "source": [
    "#printing the score\n",
    "\n",
    "print(f'Training score for bigram: {pipe1.score(documents, labels)}')\n",
    "print(f'Training score for unigram: {pipe2.score(documents, labels)}')"
   ]
  },
  {
   "cell_type": "code",
   "execution_count": 16,
   "metadata": {},
   "outputs": [],
   "source": [
    "#testing the classifier on a test sample set\n",
    "#creating the test data\n",
    "\n",
    "test_docs = [\"My Python program is only 100 bytes long.\",\n",
    "             \"A python's bite is not venomous but still hurts.\",\n",
    "             \"I can't find the error in the python code.\",\n",
    "             \"Where is my pet python; I can't find her!\",\n",
    "             \"I use for and while loops when writing Python.\",\n",
    "             \"The python will loop and wrap itself onto me.\",\n",
    "             \"I use snake case for naming my variables.\",\n",
    "             \"My python has grown to over 10 ft long!\",\n",
    "             \"I use virtual environments to manage package versions.\",\n",
    "             \"Pythons are the largest snakes in the environment.\"]\n",
    "\n",
    "class_labels = ['animal', 'language']\n"
   ]
  },
  {
   "cell_type": "code",
   "execution_count": 18,
   "metadata": {},
   "outputs": [
    {
     "data": {
      "text/plain": [
       "array([[0.28588966, 0.71411034],\n",
       "       [0.3182094 , 0.6817906 ],\n",
       "       [0.22235938, 0.77764062],\n",
       "       [0.32069037, 0.67930963],\n",
       "       [0.11266706, 0.88733294],\n",
       "       [0.2619799 , 0.7380201 ],\n",
       "       [0.24797437, 0.75202563],\n",
       "       [0.43075403, 0.56924597],\n",
       "       [0.13060872, 0.86939128],\n",
       "       [0.58375111, 0.41624889]])"
      ]
     },
     "execution_count": 18,
     "metadata": {},
     "output_type": "execute_result"
    }
   ],
   "source": [
    "#getting the results\n",
    "\n",
    "y_proba = pipe2.predict_proba(test_docs)\n",
    "y_proba"
   ]
  },
  {
   "cell_type": "code",
   "execution_count": 19,
   "metadata": {},
   "outputs": [
    {
     "name": "stdout",
     "output_type": "stream",
     "text": [
      "My Python program is only 100 bytes long. --> language at 71.411%\n",
      "A python's bite is not venomous but still hurts. --> language at 68.1791%\n",
      "I can't find the error in the python code. --> language at 77.7641%\n",
      "Where is my pet python; I can't find her! --> language at 67.931%\n",
      "I use for and while loops when writing Python. --> language at 88.7333%\n",
      "The python will loop and wrap itself onto me. --> language at 73.802%\n",
      "I use snake case for naming my variables. --> language at 75.2026%\n",
      "My python has grown to over 10 ft long! --> language at 56.9246%\n",
      "I use virtual environments to manage package versions. --> language at 86.9391%\n",
      "Pythons are the largest snakes in the environment. --> animal at 58.3751%\n"
     ]
    }
   ],
   "source": [
    "#getting the predicted indices\n",
    "\n",
    "predicted_indices = (y_proba[:,1] > 0.5).astype(int)\n",
    "\n",
    "for i, index in enumerate(predicted_indices):\n",
    "    print(test_docs[i], \"--> {} at {:g}%\". format(class_labels[index], 100*y_proba[i,index]))"
   ]
  },
  {
   "cell_type": "code",
   "execution_count": null,
   "metadata": {},
   "outputs": [],
   "source": []
  }
 ],
 "metadata": {
  "kernelspec": {
   "display_name": "Python 3",
   "language": "python",
   "name": "python3"
  },
  "language_info": {
   "codemirror_mode": {
    "name": "ipython",
    "version": 3
   },
   "file_extension": ".py",
   "mimetype": "text/x-python",
   "name": "python",
   "nbconvert_exporter": "python",
   "pygments_lexer": "ipython3",
   "version": "3.7.4"
  }
 },
 "nbformat": 4,
 "nbformat_minor": 2
}
