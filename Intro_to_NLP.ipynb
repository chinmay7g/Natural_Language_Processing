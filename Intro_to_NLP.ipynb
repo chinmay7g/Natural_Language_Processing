{
 "cells": [
  {
   "cell_type": "markdown",
   "metadata": {},
   "source": [
    "# Intro to NLP"
   ]
  },
  {
   "cell_type": "code",
   "execution_count": null,
   "metadata": {},
   "outputs": [],
   "source": [
    "import spacy"
   ]
  },
  {
   "cell_type": "code",
   "execution_count": 3,
   "metadata": {},
   "outputs": [],
   "source": [
    "# load text processing pipeline\n",
    "\n",
    "nlp = spacy.load('en')"
   ]
  },
  {
   "cell_type": "code",
   "execution_count": 4,
   "metadata": {},
   "outputs": [
    {
     "name": "stdout",
     "output_type": "stream",
     "text": [
      "Let us try out spacy.\n",
      "We can easily divide text into sentences.\n",
      "I am running outta ideas\n"
     ]
    }
   ],
   "source": [
    "#accepts string\n",
    "\n",
    "doc = nlp('Let us try out spacy. We can easily divide text into sentences. I am running outta ideas')\n",
    "\n",
    "#iterating over sentences in the text\n",
    "for sent in doc.sents:\n",
    "    print(sent)"
   ]
  },
  {
   "cell_type": "code",
   "execution_count": 8,
   "metadata": {},
   "outputs": [
    {
     "name": "stdout",
     "output_type": "stream",
     "text": [
      "Let\n",
      "can\n"
     ]
    }
   ],
   "source": [
    "print(doc[0])\n",
    "print(doc[7])"
   ]
  },
  {
   "cell_type": "code",
   "execution_count": 11,
   "metadata": {},
   "outputs": [
    {
     "name": "stdout",
     "output_type": "stream",
     "text": [
      "('Hi', 'INTJ')\n",
      "('my', 'DET')\n",
      "('name', 'NOUN')\n",
      "('is', 'AUX')\n",
      "('Chinmay', 'PROPN')\n",
      "('Gherde', 'PROPN')\n",
      "('.', 'PUNCT')\n",
      "('I', 'PRON')\n",
      "('love', 'VERB')\n",
      "('Machine', 'NOUN')\n",
      "('Learning', 'PROPN')\n",
      "('!', 'PUNCT')\n"
     ]
    }
   ],
   "source": [
    "doc = nlp('Hi my name is Chinmay Gherde. I love Machine Learning!')\n",
    "tag = set()\n",
    "\n",
    "for word in doc:\n",
    "    # pos = Part of Speech\n",
    "    print((word.text, word.pos_))"
   ]
  },
  {
   "cell_type": "code",
   "execution_count": null,
   "metadata": {},
   "outputs": [],
   "source": []
  }
 ],
 "metadata": {
  "kernelspec": {
   "display_name": "Python 3",
   "language": "python",
   "name": "python3"
  },
  "language_info": {
   "codemirror_mode": {
    "name": "ipython",
    "version": 3
   },
   "file_extension": ".py",
   "mimetype": "text/x-python",
   "name": "python",
   "nbconvert_exporter": "python",
   "pygments_lexer": "ipython3",
   "version": "3.7.4"
  }
 },
 "nbformat": 4,
 "nbformat_minor": 2
}
